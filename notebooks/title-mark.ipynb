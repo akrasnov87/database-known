{
 "cells": [
  {
   "cell_type": "code",
   "execution_count": 6,
   "id": "46ad8401",
   "metadata": {},
   "outputs": [],
   "source": [
    "import pandas as pd\n",
    "import json"
   ]
  },
  {
   "cell_type": "code",
   "execution_count": 14,
   "id": "ef342370",
   "metadata": {},
   "outputs": [],
   "source": [
    "def gen_train_data(file_path, save_path):\n",
    "    \"\"\"\n",
    "    file_path: csv file exported by Label Studio\n",
    "    save_path: save path\n",
    "    \"\"\"\n",
    "    data = pd.read_csv(file_path)\n",
    "    for idx, item in data.iterrows():\n",
    "        text = item['title']\n",
    "        if pd.isna(text):\n",
    "            text = ''\n",
    "        text_list = list(text)\n",
    "        label_list = []\n",
    "        labels = item['label']\n",
    "        label_list = ['O' for i in range(len(text_list))]\n",
    "        if pd.isna(labels):\n",
    "            pass\n",
    "        else:\n",
    "            labels = json.loads(labels)\n",
    "            for label_item in labels:\n",
    "                start = label_item['start']\n",
    "                end = label_item['end']\n",
    "                label = label_item['labels'][0]\n",
    "                label_list[start] = f'B-{label}'\n",
    "                label_list[start+1:end-1] = [f'M-{label}' for i in range(end-start-2)]\n",
    "                label_list[end - 1] = f'E-{label}'\n",
    "        assert len(label_list) == len(text_list)\n",
    "        with open(save_path, 'a', encoding='utf-8') as f:\n",
    "            for idx_, line in enumerate(text_list):\n",
    "                if text_list[idx_] == '\\t' or text_list[idx_] == ' ':\n",
    "                    text_list[idx_] = '，'\n",
    "                line = text_list[idx_] + ' ' + label_list[idx_] + '\\n'\n",
    "                f.write(line)\n",
    "            f.write('\\n')"
   ]
  },
  {
   "cell_type": "code",
   "execution_count": 15,
   "id": "180cc3d3",
   "metadata": {},
   "outputs": [],
   "source": [
    "gen_train_data('../datasets/feature_titles-mark.csv', '../datasets/feature_titles-mark-finish.csv')"
   ]
  },
  {
   "cell_type": "code",
   "execution_count": null,
   "id": "6b8b96b3",
   "metadata": {},
   "outputs": [],
   "source": []
  }
 ],
 "metadata": {
  "kernelspec": {
   "display_name": "Python 3 (ipykernel)",
   "language": "python",
   "name": "python3"
  },
  "language_info": {
   "codemirror_mode": {
    "name": "ipython",
    "version": 3
   },
   "file_extension": ".py",
   "mimetype": "text/x-python",
   "name": "python",
   "nbconvert_exporter": "python",
   "pygments_lexer": "ipython3",
   "version": "3.10.11"
  },
  "toc": {
   "base_numbering": 1,
   "nav_menu": {},
   "number_sections": true,
   "sideBar": true,
   "skip_h1_title": false,
   "title_cell": "Table of Contents",
   "title_sidebar": "Contents",
   "toc_cell": false,
   "toc_position": {},
   "toc_section_display": true,
   "toc_window_display": false
  }
 },
 "nbformat": 4,
 "nbformat_minor": 5
}
