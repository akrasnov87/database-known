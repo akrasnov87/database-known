{
 "cells": [
  {
   "cell_type": "markdown",
   "id": "d6cfddd4",
   "metadata": {},
   "source": [
    "# Определение ответственного лица для решения задачи"
   ]
  },
  {
   "cell_type": "markdown",
   "id": "90fea978",
   "metadata": {},
   "source": [
    "Данные предварительно должны быть размечены инструментом `label studio`"
   ]
  },
  {
   "cell_type": "code",
   "execution_count": null,
   "id": "415b8639",
   "metadata": {},
   "outputs": [],
   "source": [
    "!pip install tokenizers -q\n",
    "!pip install transformers -q\n",
    "!pip install transformers[torch] -q"
   ]
  },
  {
   "cell_type": "markdown",
   "id": "5573a260",
   "metadata": {},
   "source": [
    "## Анализ данных"
   ]
  },
  {
   "cell_type": "code",
   "execution_count": 34,
   "id": "d6b11686",
   "metadata": {},
   "outputs": [],
   "source": [
    "import json\n",
    "import re\n",
    "import pandas as pd\n",
    "\n",
    "from tokenizers import BertWordPieceTokenizer\n",
    "from transformers import BertTokenizer, LineByLineTextDataset"
   ]
  },
  {
   "cell_type": "markdown",
   "id": "acc2933a",
   "metadata": {},
   "source": [
    "Для корректной работы скрипта требуются файлы:\n",
    "* tfs-titles.csv\n",
    "* tfs-titles-mask.csv"
   ]
  },
  {
   "cell_type": "markdown",
   "id": "81d85383",
   "metadata": {},
   "source": [
    "### Заголовки артефактов"
   ]
  },
  {
   "cell_type": "code",
   "execution_count": 27,
   "id": "c7955605",
   "metadata": {},
   "outputs": [
    {
     "name": "stdout",
     "output_type": "stream",
     "text": [
      "<class 'pandas.core.frame.DataFrame'>\n",
      "Int64Index: 1096 entries, 549475 to 627931\n",
      "Data columns (total 1 columns):\n",
      " #   Column  Non-Null Count  Dtype \n",
      "---  ------  --------------  ----- \n",
      " 0   title   1096 non-null   object\n",
      "dtypes: object(1)\n",
      "memory usage: 17.1+ KB\n"
     ]
    },
    {
     "data": {
      "text/html": [
       "<div>\n",
       "<style scoped>\n",
       "    .dataframe tbody tr th:only-of-type {\n",
       "        vertical-align: middle;\n",
       "    }\n",
       "\n",
       "    .dataframe tbody tr th {\n",
       "        vertical-align: top;\n",
       "    }\n",
       "\n",
       "    .dataframe thead th {\n",
       "        text-align: right;\n",
       "    }\n",
       "</style>\n",
       "<table border=\"1\" class=\"dataframe\">\n",
       "  <thead>\n",
       "    <tr style=\"text-align: right;\">\n",
       "      <th></th>\n",
       "      <th>title</th>\n",
       "    </tr>\n",
       "    <tr>\n",
       "      <th>id</th>\n",
       "      <th></th>\n",
       "    </tr>\n",
       "  </thead>\n",
       "  <tbody>\n",
       "    <tr>\n",
       "      <th>549475</th>\n",
       "      <td>МРСК ЦиП и Центра. Анализ переполнения памяти ...</td>\n",
       "    </tr>\n",
       "    <tr>\n",
       "      <th>774271</th>\n",
       "      <td>[МОЭСК МС] #4990 Необходимо доработать логику ...</td>\n",
       "    </tr>\n",
       "    <tr>\n",
       "      <th>793494</th>\n",
       "      <td>[МОЭСК МС] #5184 Необходимо реализовать возмож...</td>\n",
       "    </tr>\n",
       "    <tr>\n",
       "      <th>709059</th>\n",
       "      <td>[МОЭСК]#HD1038238 Не отображаются ПКЗ в КСП.</td>\n",
       "    </tr>\n",
       "    <tr>\n",
       "      <th>781957</th>\n",
       "      <td>[МРСК ЦиП] #1764279 Необходима выгрузка всех с...</td>\n",
       "    </tr>\n",
       "  </tbody>\n",
       "</table>\n",
       "</div>"
      ],
      "text/plain": [
       "                                                    title\n",
       "id                                                       \n",
       "549475  МРСК ЦиП и Центра. Анализ переполнения памяти ...\n",
       "774271  [МОЭСК МС] #4990 Необходимо доработать логику ...\n",
       "793494  [МОЭСК МС] #5184 Необходимо реализовать возмож...\n",
       "709059       [МОЭСК]#HD1038238 Не отображаются ПКЗ в КСП.\n",
       "781957  [МРСК ЦиП] #1764279 Необходима выгрузка всех с..."
      ]
     },
     "execution_count": 27,
     "metadata": {},
     "output_type": "execute_result"
    }
   ],
   "source": [
    "titles = pd.read_csv('../datasets/tfs-titles.csv')\n",
    "\n",
    "titles.set_index('id', inplace=True)\n",
    "\n",
    "titles.info()\n",
    "\n",
    "titles.head()"
   ]
  },
  {
   "cell_type": "code",
   "execution_count": 31,
   "id": "b1745f78",
   "metadata": {},
   "outputs": [],
   "source": [
    "# уберём числовые значения\n",
    "def normal_title(txt):\n",
    "    return re.sub(r'\\d+', '', txt)\n",
    "    \n",
    "titles.title = titles.title.apply(normal_title)"
   ]
  },
  {
   "cell_type": "markdown",
   "id": "bfda5d46",
   "metadata": {},
   "source": [
    "#### Создание tokenizer"
   ]
  },
  {
   "cell_type": "code",
   "execution_count": 39,
   "id": "bcb92ee6",
   "metadata": {},
   "outputs": [],
   "source": [
    "# теперь создаём текстовый файл - corpus.txt\n",
    "CORPUS_TXT='../datasets/corpus.txt'\n",
    "\n",
    "# преобразуем в текстовый файл\n",
    "with open(CORPUS_TXT, 'a', encoding='utf-8') as f:\n",
    "    def read_rows_from_csv(row):\n",
    "        f.write(f'{row[\"title\"]}\\n')\n",
    "\n",
    "    titles.apply(read_rows_from_csv, axis=1)\n",
    "\n",
    "    f.close()"
   ]
  },
  {
   "cell_type": "code",
   "execution_count": 43,
   "id": "4470c8cf",
   "metadata": {},
   "outputs": [
    {
     "data": {
      "text/plain": [
       "Tokenizer(vocabulary_size=2339, model=BertWordPiece, unk_token=[UNK], sep_token=[SEP], cls_token=[CLS], pad_token=[PAD], mask_token=[MASK], clean_text=True, handle_chinese_chars=True, strip_accents=None, lowercase=True, wordpieces_prefix=##)"
      ]
     },
     "execution_count": 43,
     "metadata": {},
     "output_type": "execute_result"
    }
   ],
   "source": [
    "tokenizer = BertWordPieceTokenizer()\n",
    "tokenizer.train(files=CORPUS_TXT)\n",
    "\n",
    "# убедится, что в каталоге есть папка tokenizer\n",
    "\n",
    "tokenizer.save_model('../datasets/tokenizer')\n",
    "tokenizer"
   ]
  },
  {
   "cell_type": "markdown",
   "id": "7c56a5d8",
   "metadata": {},
   "source": [
    "### Обработка маскированного (размеченного) файла"
   ]
  },
  {
   "cell_type": "code",
   "execution_count": 48,
   "id": "79eb2621",
   "metadata": {},
   "outputs": [
    {
     "name": "stdout",
     "output_type": "stream",
     "text": [
      "<class 'pandas.core.frame.DataFrame'>\n",
      "Int64Index: 1096 entries, 549475 to 627931\n",
      "Data columns (total 2 columns):\n",
      " #   Column  Non-Null Count  Dtype \n",
      "---  ------  --------------  ----- \n",
      " 0   label   1095 non-null   object\n",
      " 1   title   1096 non-null   object\n",
      "dtypes: object(2)\n",
      "memory usage: 25.7+ KB\n"
     ]
    },
    {
     "data": {
      "text/html": [
       "<div>\n",
       "<style scoped>\n",
       "    .dataframe tbody tr th:only-of-type {\n",
       "        vertical-align: middle;\n",
       "    }\n",
       "\n",
       "    .dataframe tbody tr th {\n",
       "        vertical-align: top;\n",
       "    }\n",
       "\n",
       "    .dataframe thead th {\n",
       "        text-align: right;\n",
       "    }\n",
       "</style>\n",
       "<table border=\"1\" class=\"dataframe\">\n",
       "  <thead>\n",
       "    <tr style=\"text-align: right;\">\n",
       "      <th></th>\n",
       "      <th>label</th>\n",
       "      <th>title</th>\n",
       "    </tr>\n",
       "    <tr>\n",
       "      <th>id</th>\n",
       "      <th></th>\n",
       "      <th></th>\n",
       "    </tr>\n",
       "  </thead>\n",
       "  <tbody>\n",
       "    <tr>\n",
       "      <th>549475</th>\n",
       "      <td>[{\"start\":0,\"end\":17,\"text\":\"МРСК ЦиП и Центра...</td>\n",
       "      <td>МРСК ЦиП и Центра. Анализ переполнения памяти ...</td>\n",
       "    </tr>\n",
       "    <tr>\n",
       "      <th>774271</th>\n",
       "      <td>[{\"start\":17,\"end\":218,\"text\":\"Необходимо дора...</td>\n",
       "      <td>[МОЭСК МС] #4990 Необходимо доработать логику ...</td>\n",
       "    </tr>\n",
       "    <tr>\n",
       "      <th>793494</th>\n",
       "      <td>[{\"start\":17,\"end\":177,\"text\":\"Необходимо реал...</td>\n",
       "      <td>[МОЭСК МС] #5184 Необходимо реализовать возмож...</td>\n",
       "    </tr>\n",
       "    <tr>\n",
       "      <th>709059</th>\n",
       "      <td>[{\"start\":18,\"end\":44,\"text\":\"Не отображаются ...</td>\n",
       "      <td>[МОЭСК]#HD1038238 Не отображаются ПКЗ в КСП.</td>\n",
       "    </tr>\n",
       "    <tr>\n",
       "      <th>781957</th>\n",
       "      <td>[{\"start\":20,\"end\":53,\"text\":\"Необходима выгру...</td>\n",
       "      <td>[МРСК ЦиП] #1764279 Необходима выгрузка всех с...</td>\n",
       "    </tr>\n",
       "  </tbody>\n",
       "</table>\n",
       "</div>"
      ],
      "text/plain": [
       "                                                    label  \\\n",
       "id                                                          \n",
       "549475  [{\"start\":0,\"end\":17,\"text\":\"МРСК ЦиП и Центра...   \n",
       "774271  [{\"start\":17,\"end\":218,\"text\":\"Необходимо дора...   \n",
       "793494  [{\"start\":17,\"end\":177,\"text\":\"Необходимо реал...   \n",
       "709059  [{\"start\":18,\"end\":44,\"text\":\"Не отображаются ...   \n",
       "781957  [{\"start\":20,\"end\":53,\"text\":\"Необходима выгру...   \n",
       "\n",
       "                                                    title  \n",
       "id                                                         \n",
       "549475  МРСК ЦиП и Центра. Анализ переполнения памяти ...  \n",
       "774271  [МОЭСК МС] #4990 Необходимо доработать логику ...  \n",
       "793494  [МОЭСК МС] #5184 Необходимо реализовать возмож...  \n",
       "709059       [МОЭСК]#HD1038238 Не отображаются ПКЗ в КСП.  \n",
       "781957  [МРСК ЦиП] #1764279 Необходима выгрузка всех с...  "
      ]
     },
     "execution_count": 48,
     "metadata": {},
     "output_type": "execute_result"
    }
   ],
   "source": [
    "titles_mask = pd.read_csv('../datasets/tfs-titles-mask.csv')\n",
    "\n",
    "titles_mask.drop(['annotator', 'annotation_id', 'created_at', 'lead_time', 'updated_at'], axis=1, inplace=True)\n",
    "\n",
    "titles_mask.set_index('id', inplace=True)\n",
    "\n",
    "titles_mask.info()\n",
    "\n",
    "titles_mask.head()"
   ]
  },
  {
   "cell_type": "markdown",
   "id": "91c4f24b",
   "metadata": {},
   "source": [
    "Нужно размеченный тег сопоставить с текстом (title), используя "
   ]
  },
  {
   "cell_type": "code",
   "execution_count": null,
   "id": "f61eb8d2",
   "metadata": {},
   "outputs": [],
   "source": []
  },
  {
   "cell_type": "code",
   "execution_count": null,
   "id": "8c78e72d",
   "metadata": {},
   "outputs": [],
   "source": []
  },
  {
   "cell_type": "code",
   "execution_count": null,
   "id": "68f1c1c1",
   "metadata": {},
   "outputs": [],
   "source": []
  },
  {
   "cell_type": "code",
   "execution_count": null,
   "id": "7589eaef",
   "metadata": {},
   "outputs": [],
   "source": []
  },
  {
   "cell_type": "code",
   "execution_count": 14,
   "id": "4ee396e2",
   "metadata": {},
   "outputs": [],
   "source": [
    "def gen_train_data(file_path, save_path):\n",
    "    \"\"\"\n",
    "    file_path: csv file exported by Label Studio\n",
    "    save_path: save path\n",
    "    \"\"\"\n",
    "    data = pd.read_csv(file_path)\n",
    "    for idx, item in data.iterrows():\n",
    "        text = item['title']\n",
    "        if pd.isna(text):\n",
    "            text = ''\n",
    "        text_list = list(text)\n",
    "        label_list = []\n",
    "        labels = item['label']\n",
    "        label_list = ['O' for i in range(len(text_list))]\n",
    "        if pd.isna(labels):\n",
    "            pass\n",
    "        else:\n",
    "            labels = json.loads(labels)\n",
    "            for label_item in labels:\n",
    "                start = label_item['start']\n",
    "                end = label_item['end']\n",
    "                label = label_item['labels'][0]\n",
    "                label_list[start] = f'B-{label}'\n",
    "                label_list[start+1:end-1] = [f'M-{label}' for i in range(end-start-2)]\n",
    "                label_list[end - 1] = f'E-{label}'\n",
    "        assert len(label_list) == len(text_list)\n",
    "        with open(save_path, 'a', encoding='utf-8') as f:\n",
    "            for idx_, line in enumerate(text_list):\n",
    "                if text_list[idx_] == '\\t' or text_list[idx_] == ' ':\n",
    "                    text_list[idx_] = '，'\n",
    "                line = text_list[idx_] + ' ' + label_list[idx_] + '\\n'\n",
    "                f.write(line)\n",
    "            f.write('\\n')"
   ]
  },
  {
   "cell_type": "code",
   "execution_count": 15,
   "id": "7bc19285",
   "metadata": {},
   "outputs": [],
   "source": [
    "gen_train_data('../datasets/feature_titles-mark.csv', '../datasets/feature_titles-mark-finish.csv')"
   ]
  },
  {
   "cell_type": "code",
   "execution_count": 24,
   "id": "1cc98aca",
   "metadata": {},
   "outputs": [
    {
     "data": {
      "text/html": [
       "<div>\n",
       "<style scoped>\n",
       "    .dataframe tbody tr th:only-of-type {\n",
       "        vertical-align: middle;\n",
       "    }\n",
       "\n",
       "    .dataframe tbody tr th {\n",
       "        vertical-align: top;\n",
       "    }\n",
       "\n",
       "    .dataframe thead th {\n",
       "        text-align: right;\n",
       "    }\n",
       "</style>\n",
       "<table border=\"1\" class=\"dataframe\">\n",
       "  <thead>\n",
       "    <tr style=\"text-align: right;\">\n",
       "      <th></th>\n",
       "      <th>annotation_id</th>\n",
       "      <th>annotator</th>\n",
       "      <th>created_at</th>\n",
       "      <th>id</th>\n",
       "      <th>label</th>\n",
       "      <th>lead_time</th>\n",
       "      <th>title</th>\n",
       "      <th>updated_at</th>\n",
       "    </tr>\n",
       "  </thead>\n",
       "  <tbody>\n",
       "    <tr>\n",
       "      <th>0</th>\n",
       "      <td>7</td>\n",
       "      <td>1</td>\n",
       "      <td>2023-08-25T04:25:34.057216Z</td>\n",
       "      <td>549475</td>\n",
       "      <td>[{\"start\":0,\"end\":17,\"text\":\"МРСК ЦиП и Центра...</td>\n",
       "      <td>120.371</td>\n",
       "      <td>МРСК ЦиП и Центра. Анализ переполнения памяти ...</td>\n",
       "      <td>2023-08-25T04:33:53.491122Z</td>\n",
       "    </tr>\n",
       "    <tr>\n",
       "      <th>1</th>\n",
       "      <td>8</td>\n",
       "      <td>1</td>\n",
       "      <td>2023-08-25T04:25:55.656577Z</td>\n",
       "      <td>774271</td>\n",
       "      <td>[{\"start\":17,\"end\":218,\"text\":\"Необходимо дора...</td>\n",
       "      <td>73.469</td>\n",
       "      <td>[МОЭСК МС] #4990 Необходимо доработать логику ...</td>\n",
       "      <td>2023-08-25T04:34:01.648770Z</td>\n",
       "    </tr>\n",
       "    <tr>\n",
       "      <th>2</th>\n",
       "      <td>9</td>\n",
       "      <td>1</td>\n",
       "      <td>2023-08-25T04:26:20.314071Z</td>\n",
       "      <td>793494</td>\n",
       "      <td>[{\"start\":17,\"end\":177,\"text\":\"Необходимо реал...</td>\n",
       "      <td>58.721</td>\n",
       "      <td>[МОЭСК МС] #5184 Необходимо реализовать возмож...</td>\n",
       "      <td>2023-08-25T04:34:09.367064Z</td>\n",
       "    </tr>\n",
       "    <tr>\n",
       "      <th>3</th>\n",
       "      <td>10</td>\n",
       "      <td>1</td>\n",
       "      <td>2023-08-25T04:26:37.026182Z</td>\n",
       "      <td>709059</td>\n",
       "      <td>[{\"start\":18,\"end\":44,\"text\":\"Не отображаются ...</td>\n",
       "      <td>57.769</td>\n",
       "      <td>[МОЭСК]#HD1038238 Не отображаются ПКЗ в КСП.</td>\n",
       "      <td>2023-08-25T04:34:18.382464Z</td>\n",
       "    </tr>\n",
       "    <tr>\n",
       "      <th>4</th>\n",
       "      <td>11</td>\n",
       "      <td>1</td>\n",
       "      <td>2023-08-25T04:26:51.503539Z</td>\n",
       "      <td>781957</td>\n",
       "      <td>[{\"start\":20,\"end\":53,\"text\":\"Необходима выгру...</td>\n",
       "      <td>53.867</td>\n",
       "      <td>[МРСК ЦиП] #1764279 Необходима выгрузка всех с...</td>\n",
       "      <td>2023-08-25T04:34:26.530897Z</td>\n",
       "    </tr>\n",
       "  </tbody>\n",
       "</table>\n",
       "</div>"
      ],
      "text/plain": [
       "   annotation_id  annotator                   created_at      id  \\\n",
       "0              7          1  2023-08-25T04:25:34.057216Z  549475   \n",
       "1              8          1  2023-08-25T04:25:55.656577Z  774271   \n",
       "2              9          1  2023-08-25T04:26:20.314071Z  793494   \n",
       "3             10          1  2023-08-25T04:26:37.026182Z  709059   \n",
       "4             11          1  2023-08-25T04:26:51.503539Z  781957   \n",
       "\n",
       "                                               label  lead_time  \\\n",
       "0  [{\"start\":0,\"end\":17,\"text\":\"МРСК ЦиП и Центра...    120.371   \n",
       "1  [{\"start\":17,\"end\":218,\"text\":\"Необходимо дора...     73.469   \n",
       "2  [{\"start\":17,\"end\":177,\"text\":\"Необходимо реал...     58.721   \n",
       "3  [{\"start\":18,\"end\":44,\"text\":\"Не отображаются ...     57.769   \n",
       "4  [{\"start\":20,\"end\":53,\"text\":\"Необходима выгру...     53.867   \n",
       "\n",
       "                                               title  \\\n",
       "0  МРСК ЦиП и Центра. Анализ переполнения памяти ...   \n",
       "1  [МОЭСК МС] #4990 Необходимо доработать логику ...   \n",
       "2  [МОЭСК МС] #5184 Необходимо реализовать возмож...   \n",
       "3       [МОЭСК]#HD1038238 Не отображаются ПКЗ в КСП.   \n",
       "4  [МРСК ЦиП] #1764279 Необходима выгрузка всех с...   \n",
       "\n",
       "                    updated_at  \n",
       "0  2023-08-25T04:33:53.491122Z  \n",
       "1  2023-08-25T04:34:01.648770Z  \n",
       "2  2023-08-25T04:34:09.367064Z  \n",
       "3  2023-08-25T04:34:18.382464Z  \n",
       "4  2023-08-25T04:34:26.530897Z  "
      ]
     },
     "execution_count": 24,
     "metadata": {},
     "output_type": "execute_result"
    }
   ],
   "source": [
    "df = pd.read_csv('../datasets/feature_titles-mark.csv')\n",
    "\n",
    "df.head()"
   ]
  },
  {
   "cell_type": "code",
   "execution_count": 16,
   "id": "d3dcb262",
   "metadata": {},
   "outputs": [],
   "source": [
    "from datasets import load_dataset\n",
    "\n",
    "raw_datasets = load_dataset(\"conll2003\")"
   ]
  },
  {
   "cell_type": "code",
   "execution_count": 17,
   "id": "a3c7f8eb",
   "metadata": {},
   "outputs": [
    {
     "data": {
      "text/plain": [
       "DatasetDict({\n",
       "    train: Dataset({\n",
       "        features: ['id', 'tokens', 'pos_tags', 'chunk_tags', 'ner_tags'],\n",
       "        num_rows: 14041\n",
       "    })\n",
       "    validation: Dataset({\n",
       "        features: ['id', 'tokens', 'pos_tags', 'chunk_tags', 'ner_tags'],\n",
       "        num_rows: 3250\n",
       "    })\n",
       "    test: Dataset({\n",
       "        features: ['id', 'tokens', 'pos_tags', 'chunk_tags', 'ner_tags'],\n",
       "        num_rows: 3453\n",
       "    })\n",
       "})"
      ]
     },
     "execution_count": 17,
     "metadata": {},
     "output_type": "execute_result"
    }
   ],
   "source": [
    "raw_datasets"
   ]
  },
  {
   "cell_type": "code",
   "execution_count": 18,
   "id": "2bb8e257",
   "metadata": {},
   "outputs": [
    {
     "data": {
      "text/plain": [
       "{'id': '0',\n",
       " 'tokens': ['EU',\n",
       "  'rejects',\n",
       "  'German',\n",
       "  'call',\n",
       "  'to',\n",
       "  'boycott',\n",
       "  'British',\n",
       "  'lamb',\n",
       "  '.'],\n",
       " 'pos_tags': [22, 42, 16, 21, 35, 37, 16, 21, 7],\n",
       " 'chunk_tags': [11, 21, 11, 12, 21, 22, 11, 12, 0],\n",
       " 'ner_tags': [3, 0, 7, 0, 0, 0, 7, 0, 0]}"
      ]
     },
     "execution_count": 18,
     "metadata": {},
     "output_type": "execute_result"
    }
   ],
   "source": [
    "raw_datasets[\"train\"][0]"
   ]
  },
  {
   "cell_type": "code",
   "execution_count": 21,
   "id": "b2101c21",
   "metadata": {},
   "outputs": [
    {
     "data": {
      "text/plain": [
       "Sequence(feature=ClassLabel(names=['\"', \"''\", '#', '$', '(', ')', ',', '.', ':', '``', 'CC', 'CD', 'DT', 'EX', 'FW', 'IN', 'JJ', 'JJR', 'JJS', 'LS', 'MD', 'NN', 'NNP', 'NNPS', 'NNS', 'NN|SYM', 'PDT', 'POS', 'PRP', 'PRP$', 'RB', 'RBR', 'RBS', 'RP', 'SYM', 'TO', 'UH', 'VB', 'VBD', 'VBG', 'VBN', 'VBP', 'VBZ', 'WDT', 'WP', 'WP$', 'WRB'], id=None), length=-1, id=None)"
      ]
     },
     "execution_count": 21,
     "metadata": {},
     "output_type": "execute_result"
    }
   ],
   "source": [
    "pos_feature = raw_datasets[\"train\"].features[\"pos_tags\"]\n",
    "pos_feature"
   ]
  },
  {
   "cell_type": "code",
   "execution_count": 22,
   "id": "23a178e5",
   "metadata": {},
   "outputs": [
    {
     "data": {
      "text/plain": [
       "Sequence(feature=ClassLabel(names=['O', 'B-PER', 'I-PER', 'B-ORG', 'I-ORG', 'B-LOC', 'I-LOC', 'B-MISC', 'I-MISC'], id=None), length=-1, id=None)"
      ]
     },
     "execution_count": 22,
     "metadata": {},
     "output_type": "execute_result"
    }
   ],
   "source": [
    "ner_feature = raw_datasets[\"train\"].features[\"ner_tags\"]\n",
    "ner_feature"
   ]
  },
  {
   "cell_type": "code",
   "execution_count": 20,
   "id": "fb5dae1c",
   "metadata": {},
   "outputs": [
    {
     "data": {
      "text/plain": [
       "Sequence(feature=ClassLabel(names=['O', 'B-ADJP', 'I-ADJP', 'B-ADVP', 'I-ADVP', 'B-CONJP', 'I-CONJP', 'B-INTJ', 'I-INTJ', 'B-LST', 'I-LST', 'B-NP', 'I-NP', 'B-PP', 'I-PP', 'B-PRT', 'I-PRT', 'B-SBAR', 'I-SBAR', 'B-UCP', 'I-UCP', 'B-VP', 'I-VP'], id=None), length=-1, id=None)"
      ]
     },
     "execution_count": 20,
     "metadata": {},
     "output_type": "execute_result"
    }
   ],
   "source": [
    "chunk_feature = raw_datasets[\"train\"].features[\"chunk_tags\"]\n",
    "chunk_feature"
   ]
  },
  {
   "cell_type": "code",
   "execution_count": null,
   "id": "7ea7e51a",
   "metadata": {},
   "outputs": [],
   "source": []
  }
 ],
 "metadata": {
  "kernelspec": {
   "display_name": "Python 3 (ipykernel)",
   "language": "python",
   "name": "python3"
  },
  "language_info": {
   "codemirror_mode": {
    "name": "ipython",
    "version": 3
   },
   "file_extension": ".py",
   "mimetype": "text/x-python",
   "name": "python",
   "nbconvert_exporter": "python",
   "pygments_lexer": "ipython3",
   "version": "3.10.11"
  },
  "toc": {
   "base_numbering": 1,
   "nav_menu": {},
   "number_sections": false,
   "sideBar": true,
   "skip_h1_title": false,
   "title_cell": "Table of Contents",
   "title_sidebar": "Contents",
   "toc_cell": false,
   "toc_position": {},
   "toc_section_display": true,
   "toc_window_display": true
  }
 },
 "nbformat": 4,
 "nbformat_minor": 5
}
